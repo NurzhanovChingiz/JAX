{
 "cells": [
  {
   "cell_type": "code",
   "execution_count": 1,
   "id": "b47104b2",
   "metadata": {
    "ExecuteTime": {
     "end_time": "2023-11-15T15:03:14.329876Z",
     "start_time": "2023-11-15T15:03:14.327330Z"
    }
   },
   "outputs": [],
   "source": [
    "class CFG:\n",
    "    optimizer = 'Adam'"
   ]
  },
  {
   "cell_type": "markdown",
   "id": "57e4f5aa",
   "metadata": {},
   "source": [
    "# Libs"
   ]
  },
  {
   "cell_type": "code",
   "execution_count": 2,
   "id": "cd51b38c",
   "metadata": {
    "ExecuteTime": {
     "end_time": "2023-11-15T15:03:15.282251Z",
     "start_time": "2023-11-15T15:03:14.331908Z"
    }
   },
   "outputs": [],
   "source": [
    "import jax.numpy as jnp\n",
    "from jax import grad, jit, value_and_grad\n",
    "from sklearn.base import BaseEstimator, RegressorMixin\n",
    "from jax import random\n",
    "import numpy as np\n",
    "from sklearn.datasets import load_iris\n",
    "from sklearn.linear_model import LinearRegression, ElasticNet, Ridge, Lasso\n",
    "from sklearn.model_selection import train_test_split\n",
    "from sklearn.metrics import mean_squared_error, r2_score, mean_absolute_error, mean_absolute_percentage_error"
   ]
  },
  {
   "cell_type": "markdown",
   "id": "53524a9f",
   "metadata": {},
   "source": [
    "# Loss"
   ]
  },
  {
   "cell_type": "markdown",
   "id": "f6b47fb3",
   "metadata": {},
   "source": [
    "## MSE"
   ]
  },
  {
   "cell_type": "code",
   "execution_count": 3,
   "id": "b44b88b6",
   "metadata": {
    "ExecuteTime": {
     "end_time": "2023-11-15T15:03:15.288357Z",
     "start_time": "2023-11-15T15:03:15.283779Z"
    }
   },
   "outputs": [],
   "source": [
    "class Loss:\n",
    "    '''MSE'''\n",
    "    @staticmethod\n",
    "    @jit\n",
    "    def forward(w, b, X, y):\n",
    "        \"\"\"MSE\"\"\"\n",
    "        y_pred = jnp.dot(X, w) + b\n",
    "        return jnp.mean((y - y_pred) ** 2)\n",
    "\n",
    "    @staticmethod\n",
    "    @jit\n",
    "    def backward(w, b, X, y):\n",
    "        grad_w = grad(Loss.forward, 0)(w, b, X, y)\n",
    "        grad_b = grad(Loss.forward, 1)(w, b, X, y)\n",
    "        return grad_w, grad_b"
   ]
  },
  {
   "cell_type": "markdown",
   "id": "2d59989e",
   "metadata": {},
   "source": [
    "## LassoLoss"
   ]
  },
  {
   "cell_type": "code",
   "execution_count": 4,
   "id": "df16c438",
   "metadata": {
    "ExecuteTime": {
     "end_time": "2023-11-15T15:03:15.294450Z",
     "start_time": "2023-11-15T15:03:15.289880Z"
    }
   },
   "outputs": [],
   "source": [
    "class LassoLoss:\n",
    "    '''MSE'''\n",
    "    @staticmethod\n",
    "    @jit\n",
    "    def forward(w, b, X, y, alpha):\n",
    "        \"\"\"MSE\"\"\"\n",
    "        y_pred = jnp.dot(X, w) + b\n",
    "        mse = jnp.mean((y - y_pred) ** 2)\n",
    "\n",
    "        l1 = jnp.sum(jnp.abs(w))\n",
    "        return mse + alpha * l1\n",
    "    @staticmethod\n",
    "    @jit\n",
    "    def backward(w, b, X, y, alpha):\n",
    "        ridge_loss, grad_wb = value_and_grad(LassoLoss.forward, argnums=(0, 1))(w, b, X, y, alpha)\n",
    "        grad_w, grad_b = grad_wb\n",
    "        return grad_w, grad_b"
   ]
  },
  {
   "cell_type": "markdown",
   "id": "4dea5c91",
   "metadata": {},
   "source": [
    "# Optimizer"
   ]
  },
  {
   "cell_type": "markdown",
   "id": "d782d6bc",
   "metadata": {},
   "source": [
    "## SGD"
   ]
  },
  {
   "cell_type": "code",
   "execution_count": 5,
   "id": "01f00a56",
   "metadata": {
    "ExecuteTime": {
     "end_time": "2023-11-15T15:03:15.299530Z",
     "start_time": "2023-11-15T15:03:15.295978Z"
    }
   },
   "outputs": [],
   "source": [
    "class SGD:\n",
    "    def __init__(self, lr=0.01, alpha=1.0):\n",
    "        self.lr = lr\n",
    "        self.alpha = alpha\n",
    "        self.loss = LassoLoss()\n",
    "    def update(self, w, b, X, y):\n",
    "        grad_w, grad_b = self.loss.backward(w, b, X, y, self.alpha)\n",
    "        w -= self.lr * grad_w\n",
    "        b -= self.lr * grad_b\n",
    "        return w, b\n",
    "\n",
    "    def initialize(self, w_shape):\n",
    "        pass"
   ]
  },
  {
   "cell_type": "markdown",
   "id": "8b90d48f",
   "metadata": {},
   "source": [
    "## SGD with momentum"
   ]
  },
  {
   "cell_type": "code",
   "execution_count": 6,
   "id": "a37fcaf4",
   "metadata": {
    "ExecuteTime": {
     "end_time": "2023-11-15T15:03:15.305621Z",
     "start_time": "2023-11-15T15:03:15.301052Z"
    }
   },
   "outputs": [],
   "source": [
    "class SGD_momentum:\n",
    "    def __init__(self, lr=0.01, momentum=0.9, alpha=1.0):\n",
    "        self.lr = lr\n",
    "        self.v_w = None\n",
    "        self.v_b = None\n",
    "        self.momentum = momentum\n",
    "        self.alpha = alpha\n",
    "        self.loss = LassoLoss()\n",
    "    def initialize(self, w_shape):\n",
    "        self.v_w = jnp.zeros(w_shape)\n",
    "        self.v_b = 0.0\n",
    "\n",
    "    def update(self, w, b, X, y):\n",
    "        grad_w, grad_b = self.loss.backward(w, b, X, y, self.alpha)\n",
    "        self.v_w = self.momentum * self.v_w + self.lr * grad_w\n",
    "        w -= self.v_w\n",
    "        self.v_b = self.momentum * self.v_b + self.lr * grad_b\n",
    "        b -= self.v_b\n",
    "        return w, b"
   ]
  },
  {
   "cell_type": "markdown",
   "id": "2be3848a",
   "metadata": {},
   "source": [
    "## Nesterov"
   ]
  },
  {
   "cell_type": "code",
   "execution_count": 7,
   "id": "8f19ff03",
   "metadata": {
    "ExecuteTime": {
     "end_time": "2023-11-15T15:03:15.311718Z",
     "start_time": "2023-11-15T15:03:15.307147Z"
    }
   },
   "outputs": [],
   "source": [
    "class Nesterov:\n",
    "    def __init__(self, lr=0.01, momentum = 0.9, alpha=1.0):\n",
    "        self.lr = lr\n",
    "        self.v_w = None\n",
    "        self.v_b = None\n",
    "        self.momentum = momentum\n",
    "        self.alpha = alpha\n",
    "        self.loss = LassoLoss()\n",
    "    \n",
    "    def initialize(self, w_shape):\n",
    "        self.v_w = jnp.zeros(w_shape)\n",
    "        self.v_b = 0.0    \n",
    "        \n",
    "        \n",
    "    def update(self,w, b, X, y):\n",
    "        # Lookahead based on the current velocity\n",
    "        w_lookahead = w - self.momentum * self.v_w\n",
    "        b_lookahead = b - self.momentum * self.v_b\n",
    "\n",
    "        # Compute gradients at the lookahead position\n",
    "        grad_w, grad_b = self.loss.backward(\n",
    "            w_lookahead, b_lookahead, X, y, self.alpha)\n",
    "\n",
    "        # Update velocities\n",
    "        self.v_w = self.momentum * self.v_w + self.lr * grad_w\n",
    "        self.v_b = self.momentum * self.v_b + self.lr * grad_b\n",
    "\n",
    "        # Update parameters\n",
    "        w = w - self.v_w\n",
    "        b = b - self.v_b\n",
    "\n",
    "        return w, b"
   ]
  },
  {
   "cell_type": "markdown",
   "id": "7c0845f6",
   "metadata": {},
   "source": [
    "## Adam"
   ]
  },
  {
   "cell_type": "code",
   "execution_count": 8,
   "id": "5a1910c7",
   "metadata": {
    "ExecuteTime": {
     "end_time": "2023-11-15T15:03:15.320869Z",
     "start_time": "2023-11-15T15:03:15.314261Z"
    }
   },
   "outputs": [],
   "source": [
    "# Optimizer class for the Adam optimization algorithm\n",
    "class AdamOptimizer:\n",
    "    def __init__(self, lr=0.01, beta_1=0.9, beta_2=0.999, epsilon=1e-8,alpha=1.0):\n",
    "        self.lr = lr\n",
    "        self.beta_1 = beta_1\n",
    "        self.beta_2 = beta_2\n",
    "        self.epsilon = epsilon\n",
    "        self.t = 0\n",
    "        self.m_w = None\n",
    "        self.v_w = None\n",
    "        self.m_b = None\n",
    "        self.v_b = None\n",
    "        self.alpha = alpha\n",
    "        self.loss = LassoLoss()\n",
    "    def initialize(self, w_shape):\n",
    "        # Initialize moments to zero\n",
    "        self.m_w = jnp.zeros(w_shape)\n",
    "        self.v_w = jnp.zeros(w_shape)\n",
    "        self.m_b = 0.0\n",
    "        self.v_b = 0.0\n",
    "\n",
    "    \n",
    "    def update(self, w, b, X, y):\n",
    "        # Compute gradients\n",
    "        grad_w, grad_b = self.loss.backward(w, b, X, y,self.alpha)\n",
    "        # Increment time step\n",
    "        self.t += 1\n",
    "        \n",
    "        # Update biased first moment estimate\n",
    "        self.m_w = self.beta_1 * self.m_w + (1 - self.beta_1) * grad_w\n",
    "        self.m_b = self.beta_1 * self.m_b + (1 - self.beta_1) * grad_b\n",
    "\n",
    "        # Update biased second raw moment estimate\n",
    "        self.v_w = self.beta_2 * self.v_w + (1 - self.beta_2) * (grad_w ** 2)\n",
    "        self.v_b = self.beta_2 * self.v_b + (1 - self.beta_2) * (grad_b ** 2)\n",
    "\n",
    "        # Compute bias-corrected first moment estimate\n",
    "        m_w_hat = self.m_w / (1 - self.beta_1 ** self.t)\n",
    "        m_b_hat = self.m_b / (1 - self.beta_1 ** self.t)\n",
    "\n",
    "        # Compute bias-corrected second raw moment estimate\n",
    "        v_w_hat = self.v_w / (1 - self.beta_2 ** self.t)\n",
    "        v_b_hat = self.v_b / (1 - self.beta_2 ** self.t)\n",
    "\n",
    "        # Update parameters\n",
    "        w = w - self.lr * m_w_hat / (jnp.sqrt(v_w_hat) + self.epsilon)\n",
    "        b = b - self.lr * m_b_hat / (jnp.sqrt(v_b_hat) + self.epsilon)\n",
    "\n",
    "        return w, b\n"
   ]
  },
  {
   "cell_type": "markdown",
   "id": "27cb56e6",
   "metadata": {},
   "source": [
    "# Standart with SGD"
   ]
  },
  {
   "cell_type": "code",
   "execution_count": 9,
   "id": "50e9db8d",
   "metadata": {
    "ExecuteTime": {
     "end_time": "2023-11-15T15:03:15.328487Z",
     "start_time": "2023-11-15T15:03:15.322391Z"
    }
   },
   "outputs": [],
   "source": [
    "class JAXLassoRegressor(BaseEstimator, RegressorMixin):\n",
    "    def __init__(self, lr=0.01, n_iter=1000, random_seed=42,alpha = 1.0, optimizer = CFG.optimizer):\n",
    "        self.lr = lr\n",
    "        self.n_iter = n_iter\n",
    "        self.random_seed = random_seed\n",
    "        # Initialize weights and bias\n",
    "        self.w = None\n",
    "        self.b = None\n",
    "        # Initialize the optimizer\n",
    "        if optimizer == 'SGD':\n",
    "            self.optimizer = SGD(lr=lr)\n",
    "        if optimizer == 'SGD_momentum':\n",
    "            self.optimizer = SGD_momentum(lr=lr)\n",
    "        if optimizer == 'Adam':\n",
    "            self.optimizer = AdamOptimizer(lr=lr)\n",
    "        if optimizer == 'Nesterov':\n",
    "            self.optimizer = Nesterov(lr=lr)\n",
    "        \n",
    "    def fit(self, X, y):\n",
    "        self.initialize(X)\n",
    "        self.optimizer.initialize(self.w.shape)\n",
    "        \n",
    "        for _ in range(self.n_iter):\n",
    "\n",
    "            self.w, self.b = self.optimizer.update(self.w, self.b, X, y)\n",
    "            \n",
    "        return self\n",
    "\n",
    "    def predict(self, X):\n",
    "        return jnp.dot(X, self.w) + self.b\n",
    "\n",
    "    def initialize(self, X):\n",
    "        key = random.PRNGKey(self.random_seed)\n",
    "        # Initialize weights and bias\n",
    "        self.w = random.normal(\n",
    "            key, (X.shape[1],)) * np.sqrt(2 / X.shape[1])*0.001\n",
    "        self.b = 0.0  # initialize bias as a scalar"
   ]
  },
  {
   "cell_type": "markdown",
   "id": "9a7a1815",
   "metadata": {},
   "source": [
    "# Load dataset"
   ]
  },
  {
   "cell_type": "code",
   "execution_count": 10,
   "id": "9112c0ed",
   "metadata": {
    "ExecuteTime": {
     "end_time": "2023-11-15T15:03:15.336638Z",
     "start_time": "2023-11-15T15:03:15.330019Z"
    }
   },
   "outputs": [],
   "source": [
    "X,y = load_iris(return_X_y=True, as_frame=False)\n",
    "\n",
    "\n",
    "\n",
    "X_train, X_test, y_train, y_test = train_test_split(X,y, random_state=42)"
   ]
  },
  {
   "cell_type": "markdown",
   "id": "87293b6b",
   "metadata": {},
   "source": [
    "# Train"
   ]
  },
  {
   "cell_type": "code",
   "execution_count": 11,
   "id": "a1b95e49",
   "metadata": {
    "ExecuteTime": {
     "end_time": "2023-11-15T15:03:16.268737Z",
     "start_time": "2023-11-15T15:03:15.337655Z"
    }
   },
   "outputs": [],
   "source": [
    "# Initialize our custom Linear Regression estimator\n",
    "lin_reg = JAXLassoRegressor()\n",
    "lin_sk = Lasso(random_state=42)\n",
    "# Fit the model\n",
    "lin_reg.fit(X_train, y_train)\n",
    "lin_sk.fit(X_train, y_train)\n",
    "# Make predictions\n",
    "y_pred = lin_reg.predict(X_test)\n",
    "y_pred_sk = lin_sk.predict(X_test)"
   ]
  },
  {
   "cell_type": "markdown",
   "id": "4066575a",
   "metadata": {
    "ExecuteTime": {
     "end_time": "2023-11-07T13:39:14.545549Z",
     "start_time": "2023-11-07T13:39:14.543002Z"
    }
   },
   "source": [
    "# Metrics"
   ]
  },
  {
   "cell_type": "code",
   "execution_count": 12,
   "id": "63b5b977",
   "metadata": {
    "ExecuteTime": {
     "end_time": "2023-11-15T15:03:16.274323Z",
     "start_time": "2023-11-15T15:03:16.270255Z"
    }
   },
   "outputs": [],
   "source": [
    "def metrics(y_pred, y_true):\n",
    "    print('MSE',mean_squared_error(y_true, y_pred))\n",
    "    print('MAE',mean_absolute_error(y_true, y_pred))\n",
    "    print('MAPE',mean_absolute_percentage_error(y_true, y_pred))\n",
    "    print('r2',r2_score(y_true, y_pred))"
   ]
  },
  {
   "cell_type": "code",
   "execution_count": 13,
   "id": "0e4fb883",
   "metadata": {
    "ExecuteTime": {
     "end_time": "2023-11-15T15:03:16.283489Z",
     "start_time": "2023-11-15T15:03:16.276371Z"
    }
   },
   "outputs": [
    {
     "name": "stdout",
     "output_type": "stream",
     "text": [
      "MSE 0.15145916557208378\n",
      "MAE 0.3549729695445613\n",
      "MAPE 674646624815643.0\n",
      "r2 0.7849488347236098\n"
     ]
    }
   ],
   "source": [
    "metrics(y_pred, y_test)"
   ]
  },
  {
   "cell_type": "code",
   "execution_count": 14,
   "id": "3db5b964",
   "metadata": {
    "ExecuteTime": {
     "end_time": "2023-11-15T15:03:16.290093Z",
     "start_time": "2023-11-15T15:03:16.285024Z"
    }
   },
   "outputs": [
    {
     "name": "stdout",
     "output_type": "stream",
     "text": [
      "MSE 0.43413776924458586\n",
      "MAE 0.5778625554539317\n",
      "MAPE 1379988009618369.0\n",
      "r2 0.3835841309840886\n"
     ]
    }
   ],
   "source": [
    "metrics(y_pred_sk, y_test)"
   ]
  },
  {
   "cell_type": "code",
   "execution_count": null,
   "id": "e94d723f",
   "metadata": {},
   "outputs": [],
   "source": []
  },
  {
   "cell_type": "code",
   "execution_count": null,
   "id": "14a6fdb2",
   "metadata": {},
   "outputs": [],
   "source": []
  }
 ],
 "metadata": {
  "hide_input": false,
  "kernelspec": {
   "display_name": "Python 3 (ipykernel)",
   "language": "python",
   "name": "python3"
  },
  "language_info": {
   "codemirror_mode": {
    "name": "ipython",
    "version": 3
   },
   "file_extension": ".py",
   "mimetype": "text/x-python",
   "name": "python",
   "nbconvert_exporter": "python",
   "pygments_lexer": "ipython3",
   "version": "3.11.5"
  },
  "toc": {
   "base_numbering": 1,
   "nav_menu": {},
   "number_sections": true,
   "sideBar": true,
   "skip_h1_title": false,
   "title_cell": "Table of Contents",
   "title_sidebar": "Contents",
   "toc_cell": false,
   "toc_position": {
    "height": "calc(100% - 180px)",
    "left": "10px",
    "top": "150px",
    "width": "339.062px"
   },
   "toc_section_display": true,
   "toc_window_display": true
  }
 },
 "nbformat": 4,
 "nbformat_minor": 5
}
